{
  "cells": [
    {
      "cell_type": "markdown",
      "id": "13ad028b-72b7-43ed-aa78-96fd4e518040",
      "metadata": {
        "id": "13ad028b-72b7-43ed-aa78-96fd4e518040"
      },
      "source": [
        "# Assignment 2: Data Wrangling\n",
        "### Joe Leonard (ymd3tv) - DS 3001"
      ]
    },
    {
      "cell_type": "markdown",
      "id": "da879ea7-8aac-48a3-b6c2-daea56d2e072",
      "metadata": {
        "id": "da879ea7-8aac-48a3-b6c2-daea56d2e072"
      },
      "source": [
        "**Q1.** This question provides some practice cleaning variables which have common problems.\n",
        "1. Numeric variable: For `./data/airbnb_hw.csv`, clean the `Price` variable as well as you can, and explain the choices you make. How many missing values do you end up with? (Hint: What happens to the formatting when a price goes over 999 dollars, say from 675 to 1,112?)"
      ]
    },
    {
      "cell_type": "code",
      "execution_count": 5,
      "id": "bbe24356",
      "metadata": {},
      "outputs": [
        {
          "name": "stdout",
          "output_type": "stream",
          "text": [
            "Missing Values in Price Pre-Clean: 0\n",
            "Missing Values in Price Post-Clean: 0\n",
            "0    145000.0\n",
            "1     37000.0\n",
            "2     28000.0\n",
            "3    199000.0\n",
            "4    549000.0\n",
            "Name: Price, dtype: float64\n"
          ]
        }
      ],
      "source": [
        "import pandas as pd\n",
        "\n",
        "# Loading in the Data\n",
        "airbnb_data = pd.read_csv('./data/airbnb_hw.csv')\n",
        "\n",
        "# Count Number of Missing Values Pre-Clean (This is to see if we mess up any values)\n",
        "missing_values = airbnb_data['Price'].isna().sum()\n",
        "print(f\"Missing Values in Price Pre-Clean: {missing_values}\")\n",
        "\n",
        "# Removing Any Commas & Convert to Floats\n",
        "airbnb_data['Price'] = airbnb_data['Price'].astype(str).str.replace(',', '').astype(float)\n",
        "\n",
        "# Multiplying All Price Values by 1000 (This must happen as prices are $675,000, not $675)\n",
        "airbnb_data['Price'] = airbnb_data['Price'] * 1000\n",
        "\n",
        "# Adding in 2 Decimal Points (This is to keep theme with common pricing practices, this also may not work due to floats' structure in pandas)\n",
        "airbnb_data['Price'].round(3)\n",
        "\n",
        "# Count Number of Missing Values\n",
        "missing_values = airbnb_data['Price'].isna().sum()\n",
        "print(f\"Missing Values in Price Post-Clean: {missing_values}\")\n",
        "print(airbnb_data['Price'].head())"
      ]
    },
    {
      "cell_type": "markdown",
      "id": "9d780f31",
      "metadata": {},
      "source": [
        "2. Categorical variable: For the Minnesota police use of for data, `./data/mn_police_use_of_force.csv`, clean the `subject_injury` variable, handling the NA's; this gives a value `Yes` when a person was injured by police, and `No` when no injury occurred. What proportion of the values are missing? Is this a concern? Cross-tabulate your cleaned `subject_injury` variable with the `force_type` variable. Are there any patterns regarding when the data are missing? "
      ]
    },
    {
      "cell_type": "code",
      "execution_count": 25,
      "id": "d5701e3d",
      "metadata": {},
      "outputs": [
        {
          "name": "stdout",
          "output_type": "stream",
          "text": [
            "% of Missing Values: 76.19%\n",
            "Cross-Tab of 'subject_injury' and 'force_type':\n",
            "force_type      Baton  Bodily Force  Chemical Irritant  Firearm  \\\n",
            "subject_injury                                                    \n",
            "N/A                 2          7051               1421        0   \n",
            "No                  0          1093                131        2   \n",
            "Yes                 2          1286                 41        0   \n",
            "Total               4          9430               1593        2   \n",
            "\n",
            "force_type      Gun Point Display  Improvised Weapon  Less Lethal  \\\n",
            "subject_injury                                                      \n",
            "N/A                            27                 74           87   \n",
            "No                             33                 34            0   \n",
            "Yes                            44                 40            0   \n",
            "Total                         104                148           87   \n",
            "\n",
            "force_type      Less Lethal Projectile  Maximal Restraint Technique  \\\n",
            "subject_injury                                                        \n",
            "N/A                                  0                          170   \n",
            "No                                   1                            0   \n",
            "Yes                                  2                            0   \n",
            "Total                                3                          170   \n",
            "\n",
            "force_type      Police K9 Bite  Taser  Total  \n",
            "subject_injury                                \n",
            "N/A                         31    985   9848  \n",
            "No                           2    150   1446  \n",
            "Yes                         44    172   1631  \n",
            "Total                       77   1307  12925  \n"
          ]
        }
      ],
      "source": [
        "# Loading in the Data\n",
        "minn_data = pd.read_csv('./data/mn_police_use_of_force.csv')\n",
        "\n",
        "# Finding Out Proportion of Missing Values (After analyzation, not much cleaning can be done, values are either 'Yes', 'No', or missing)\n",
        "missing_proportion = minn_data['subject_injury'].isna().mean()\n",
        "print(f\"% of Missing Values: {missing_proportion:.2%}\")\n",
        "\n",
        "# Changing N/A Values to 'N/A' (This will allow the N/A values to show up in the cross-tabulation tables)\n",
        "minn_data['subject_injury'] = minn_data['subject_injury'].replace({\n",
        "    'Yes': 'Yes',\n",
        "    'No': 'No',\n",
        "    None : 'N/A'\n",
        "})\n",
        "\n",
        "# Creating the Cross-Tabulation Tables\n",
        "cross_tab = pd.crosstab(\n",
        "    minn_data['subject_injury'], \n",
        "    minn_data['force_type'], \n",
        "    margins = True, \n",
        "    margins_name = \"Total\"\n",
        ")\n",
        "print(\"Cross-Tab of 'subject_injury' and 'force_type':\")\n",
        "print(cross_tab)"
      ]
    },
    {
      "cell_type": "code",
      "execution_count": 26,
      "id": "1616bbbc",
      "metadata": {},
      "outputs": [
        {
          "name": "stdout",
          "output_type": "stream",
          "text": [
            "% of Missing Values: 74.90%\n",
            "Cross-Tab of 'subject_injury' and 'force_type':\n",
            "force_type      Baton  Bodily Force  Chemical Irritant  Firearm  \\\n",
            "subject_injury                                                    \n",
            "N/A                 0          7051               1421        0   \n",
            "No                  0          1093                131        2   \n",
            "Yes                 4          1286                 41        0   \n",
            "Total               4          9430               1593        2   \n",
            "\n",
            "force_type      Gun Point Display  Improvised Weapon  Less Lethal Projectile  \\\n",
            "subject_injury                                                                 \n",
            "N/A                             0                  0                       0   \n",
            "No                             45                 67                       1   \n",
            "Yes                            59                 81                       2   \n",
            "Total                         104                148                       3   \n",
            "\n",
            "force_type      Police K9 Bite  Taser  Total  \n",
            "subject_injury                                \n",
            "N/A                         31    985   9488  \n",
            "No                           2    150   1491  \n",
            "Yes                         44    172   1689  \n",
            "Total                       77   1307  12668  \n"
          ]
        }
      ],
      "source": [
        "import numpy as np\n",
        "\n",
        "# Renaming 'N/A' to None for Parsing Purposes\n",
        "minn_data['subject_injury'] = minn_data['subject_injury'].replace({\n",
        "    'N/A' : None\n",
        "})\n",
        "\n",
        "# Removing Some Rows Based on Force Type (We can see some force types only have NAs, so we can remove these)\n",
        "minn_data = minn_data[~minn_data['force_type'].isin(['Less Lethal', 'Maximal Restraint Technique'])]\n",
        "\n",
        "# Forcing All Rows to Be 'Yes' (For the 'Baton' force type, we can see only 2/4 occurences are NA and then the other 2 are 'Yes', \n",
        "# so we can assume these NAs are 'Yes')\n",
        "minn_data.loc[minn_data['force_type'] == 'Baton', 'subject_injury'] = 'Yes'\n",
        "\n",
        "# Using Yes/No Proportion to Assume NAs for Less Occuring Force Types (This may not be 100% fool proof but for 'Gun Point Display' and \n",
        "# 'Improvised Weapon', we have equal amounts of missing and noln-missing data so we can assume the same distribution would occur)\n",
        "def impute_na(group):\n",
        "    proportions = group.value_counts(normalize=True, dropna=True)\n",
        "    return group.apply(lambda x: np.random.choice(proportions.index, p=proportions.values) if pd.isna(x) else x)\n",
        "\n",
        "target_force_types = ['Gun Point Display', 'Improvised Weapon']\n",
        "\n",
        "for force_type in target_force_types:\n",
        "    mask = (minn_data['force_type'] == force_type) & minn_data['subject_injury'].isna()\n",
        "    if mask.any():\n",
        "        group_values = minn_data.loc[minn_data['force_type'] == force_type, 'subject_injury']\n",
        "        minn_data.loc[mask, 'subject_injury'] = impute_na(group_values)\n",
        "\n",
        "# Repopulating the Missing Values % and Cross-Tab Tables\n",
        "missing_proportion = minn_data['subject_injury'].isna().mean()\n",
        "print(f\"% of Missing Values: {missing_proportion:.2%}\")\n",
        "\n",
        "minn_data['subject_injury'] = minn_data['subject_injury'].replace({\n",
        "    'Yes': 'Yes',\n",
        "    'No': 'No',\n",
        "    None : 'N/A'\n",
        "})\n",
        "\n",
        "cross_tab = pd.crosstab(\n",
        "    minn_data['subject_injury'], \n",
        "    minn_data['force_type'], \n",
        "    margins = True, \n",
        "    margins_name = \"Total\"\n",
        ")\n",
        "print(\"Cross-Tab of 'subject_injury' and 'force_type':\")\n",
        "print(cross_tab)"
      ]
    },
    {
      "cell_type": "markdown",
      "id": "b3b0c005",
      "metadata": {},
      "source": [
        "3. Dummy variable: For the pretrial data covered in the lecture, clean the `WhetherDefendantWasReleasedPretrial` variable as well as you can, and, in particular, replace missing values with `np.nan`."
      ]
    },
    {
      "cell_type": "code",
      "execution_count": 42,
      "id": "93c460cd",
      "metadata": {},
      "outputs": [
        {
          "name": "stdout",
          "output_type": "stream",
          "text": [
            "WhetherDefendantWasReleasedPretrial\n",
            "1    19154\n",
            "0     3801\n",
            "9       31\n",
            "Name: count, dtype: int64\n"
          ]
        }
      ],
      "source": [
        "# Loading in the Data\n",
        "justice_data = pd.read_parquet(\"./data/justice_data.parquet\")\n",
        "\n",
        "# Show Column Issues (This is because it is a parquet file, so I couldn't analyze it in Excel, Sheets, etc.)\n",
        "print(justice_data['WhetherDefendantWasReleasedPretrial'].value_counts(dropna=False))"
      ]
    },
    {
      "cell_type": "code",
      "execution_count": 43,
      "id": "08133f55",
      "metadata": {},
      "outputs": [
        {
          "name": "stdout",
          "output_type": "stream",
          "text": [
            "WhetherDefendantWasReleasedPretrial\n",
            "Yes    19154\n",
            "No      3801\n",
            "NaN       31\n",
            "Name: count, dtype: int64\n"
          ]
        }
      ],
      "source": [
        "# Only Allow 1s or 0s, Everything Else Should Be np.nan\n",
        "justice_data['WhetherDefendantWasReleasedPretrial'] = justice_data['WhetherDefendantWasReleasedPretrial'].replace(1, 'Yes')\n",
        "justice_data['WhetherDefendantWasReleasedPretrial'] = justice_data['WhetherDefendantWasReleasedPretrial'].replace(0, 'No')\n",
        "justice_data['WhetherDefendantWasReleasedPretrial'] = justice_data['WhetherDefendantWasReleasedPretrial'].replace(9, np.nan)\n",
        "\n",
        "# Display Cleaned Column\n",
        "print(justice_data['WhetherDefendantWasReleasedPretrial'].value_counts(dropna=False))"
      ]
    },
    {
      "cell_type": "markdown",
      "id": "c614d1da",
      "metadata": {},
      "source": [
        "4. Missing values, not at random: For the pretrial data covered in the lecture, clean the `ImposedSentenceAllChargeInContactEvent` variable as well as you can, and explain the choices you make. (Hint: Look at the `SentenceTypeAllChargesAtConvictionInContactEvent` variable.)"
      ]
    },
    {
      "cell_type": "code",
      "execution_count": null,
      "id": "77b2b342",
      "metadata": {},
      "outputs": [],
      "source": [
        "##########################################"
      ]
    },
    {
      "cell_type": "markdown",
      "id": "5a60a44e",
      "metadata": {},
      "source": [
        "**Q2.** Go to https://sharkattackfile.net/ and download their dataset on shark attacks.\n",
        "\n",
        "1. Open the shark attack file using Pandas. It is probably not a csv file, so `read_csv` won't work."
      ]
    },
    {
      "cell_type": "code",
      "execution_count": 98,
      "id": "ba7d8959",
      "metadata": {},
      "outputs": [
        {
          "name": "stdout",
          "output_type": "stream",
          "text": [
            "<bound method NDFrame.head of                      Date    Year        Type             Country  \\\n",
            "0     2025-01-23 00:00:00  2025.0  Unprovoked           Australia   \n",
            "1     2025-01-22 00:00:00  2025.0  Unprovoked           Australia   \n",
            "2     2025-01-11 00:00:00  2025.0    Provoked                 USA   \n",
            "3     2025-01-02 00:00:00  2025.0  Unprovoked       New Caledonia   \n",
            "4     2025-01-02 00:00:00  2025.0  Unprovoked           Australia   \n",
            "...                   ...     ...         ...                 ...   \n",
            "6987          Before 1903     0.0  Unprovoked           AUSTRALIA   \n",
            "6988          Before 1903     0.0  Unprovoked           AUSTRALIA   \n",
            "6989            1900-1905     0.0  Unprovoked                 USA   \n",
            "6990            1883-1889     0.0  Unprovoked              PANAMA   \n",
            "6991            1845-1853     0.0  Unprovoked  CEYLON (SRI LANKA)   \n",
            "\n",
            "                  State                                 Location  \\\n",
            "0     Western Australia                           Shipwreck Cove   \n",
            "1     Western Australia                           Cheynes beach    \n",
            "2                Hawaii            Off Haleiwa Boat Harbour Oahu   \n",
            "3          Grande Terre              Islet of Kendek near Koumac   \n",
            "4       South Australia  Granites Beach near Westall Streaky Bay   \n",
            "...                 ...                                      ...   \n",
            "6987  Western Australia                              Roebuck Bay   \n",
            "6988  Western Australia                                      NaN   \n",
            "6989     North Carolina                           Ocracoke Inlet   \n",
            "6990                NaN                     Panama Bay 8ºN, 79ºW   \n",
            "6991   Eastern Province      Below the English fort, Trincomalee   \n",
            "\n",
            "          Activity                                    Name Sex  Age  ...  \\\n",
            "0          Bathing                                    Boy    M   12  ...   \n",
            "1          Surfing                             Dale Kittow   M   37  ...   \n",
            "2           Diving  Male not stated was a dive tour worker   M   23  ...   \n",
            "3     Spearfishing                        Robert Cuewapuru   M   40  ...   \n",
            "4          Surfing                           Lance Appleby   M   28  ...   \n",
            "...            ...                                     ...  ..  ...  ...   \n",
            "6987        Diving                                    male   M  NaN  ...   \n",
            "6988  Pearl diving                                   Ahmun   M  NaN  ...   \n",
            "6989      Swimming                   Coast Guard personnel   M  NaN  ...   \n",
            "6990           NaN                         Jules Patterson   M  NaN  ...   \n",
            "6991      Swimming                                    male   M   15  ...   \n",
            "\n",
            "                                    Species   \\\n",
            "0                                 Not stated   \n",
            "1                              Bronze whaler   \n",
            "2                                 Not stated   \n",
            "3             Reportedly Tiger or Bull shark   \n",
            "4     Great White Shart estimated 4.8m 16 ft   \n",
            "...                                      ...   \n",
            "6987                                     NaN   \n",
            "6988                                     NaN   \n",
            "6989                                     NaN   \n",
            "6990                                     NaN   \n",
            "6991                                     NaN   \n",
            "\n",
            "                                                 Source  \\\n",
            "0                                        Bob Myatt GSAF   \n",
            "1                                        Bob Myatt GSAF   \n",
            "2                     Kevin McMurray Trackingsharks.com   \n",
            "3                         Johannes Marchand Todd Smith    \n",
            "4     Glen Folkard: Simon De Marchi News.com.au: The...   \n",
            "...                                                 ...   \n",
            "6987                   H. Taunton; N. Bartlett,  p. 234   \n",
            "6988              H. Taunton; N. Bartlett,  pp. 233-234   \n",
            "6989               F. Schwartz, p.23; C. Creswell, GSAF   \n",
            "6990                                The Sun, 10/20/1938   \n",
            "6991                                         S.W. Baker   \n",
            "\n",
            "                                 pdf  \\\n",
            "0                                NaN   \n",
            "1                                NaN   \n",
            "2                                NaN   \n",
            "3                                NaN   \n",
            "4                                NaN   \n",
            "...                              ...   \n",
            "6987          ND-0005-RoebuckBay.pdf   \n",
            "6988               ND-0004-Ahmun.pdf   \n",
            "6989  ND-0003-Ocracoke_1900-1905.pdf   \n",
            "6990      ND-0002-JulesPatterson.pdf   \n",
            "6991              ND-0001-Ceylon.pdf   \n",
            "\n",
            "                                           href formula  \\\n",
            "0                                                   NaN   \n",
            "1                                                   NaN   \n",
            "2                                                   NaN   \n",
            "3                                                   NaN   \n",
            "4                                                   NaN   \n",
            "...                                                 ...   \n",
            "6987  http://sharkattackfile.net/spreadsheets/pdf_di...   \n",
            "6988  http://sharkattackfile.net/spreadsheets/pdf_di...   \n",
            "6989  http://sharkattackfile.net/spreadsheets/pdf_di...   \n",
            "6990  http://sharkattackfile.net/spreadsheets/pdf_di...   \n",
            "6991  http://sharkattackfile.net/spreadsheets/pdf_di...   \n",
            "\n",
            "                                                   href Case Number  \\\n",
            "0                                                   NaN         NaN   \n",
            "1                                                   NaN         NaN   \n",
            "2                                                   NaN         NaN   \n",
            "3                                                   NaN         NaN   \n",
            "4                                                   NaN         NaN   \n",
            "...                                                 ...         ...   \n",
            "6987  http://sharkattackfile.net/spreadsheets/pdf_di...     ND.0005   \n",
            "6988  http://sharkattackfile.net/spreadsheets/pdf_di...     ND.0004   \n",
            "6989  http://sharkattackfile.net/spreadsheets/pdf_di...     ND.0003   \n",
            "6990  http://sharkattackfile.net/spreadsheets/pdf_di...     ND.0002   \n",
            "6991  http://sharkattackfile.net/spreadsheets/pdf_di...     ND.0001   \n",
            "\n",
            "     Case Number.1 original order Unnamed: 21 Unnamed: 22  \n",
            "0              NaN            NaN         NaN         NaN  \n",
            "1              NaN            NaN         NaN         NaN  \n",
            "2              NaN            NaN         NaN         NaN  \n",
            "3              NaN            NaN         NaN         NaN  \n",
            "4              NaN            NaN         NaN         NaN  \n",
            "...            ...            ...         ...         ...  \n",
            "6987       ND.0005            6.0         NaN         NaN  \n",
            "6988       ND.0004            5.0         NaN         NaN  \n",
            "6989       ND.0003            4.0         NaN         NaN  \n",
            "6990       ND.0002            3.0         NaN         NaN  \n",
            "6991       ND.0001            2.0         NaN         NaN  \n",
            "\n",
            "[6992 rows x 23 columns]>\n"
          ]
        }
      ],
      "source": [
        "import xlrd\n",
        "\n",
        "# Loading in the Data\n",
        "shark_data = pd.read_excel('./data/shark_data.xls')\n",
        "print(shark_data.head)"
      ]
    },
    {
      "cell_type": "markdown",
      "id": "3bbd5a42",
      "metadata": {},
      "source": [
        "2. Drop any columns that do not contain data."
      ]
    },
    {
      "cell_type": "code",
      "execution_count": 99,
      "id": "0478965a",
      "metadata": {},
      "outputs": [
        {
          "name": "stdout",
          "output_type": "stream",
          "text": [
            "Shark Data Shape: (6992, 23)\n",
            "Updated Shark Data Shape: (6992, 23)\n"
          ]
        }
      ],
      "source": [
        "# Print Shape Before Deletion\n",
        "print(f\"Shark Data Shape: {shark_data.shape}\")\n",
        "\n",
        "# Delete NAs and Print Shape\n",
        "shark_data = shark_data.dropna(axis=1, how='all')\n",
        "print(f\"Updated Shark Data Shape: {shark_data.shape}\")"
      ]
    },
    {
      "cell_type": "markdown",
      "id": "1cb80425",
      "metadata": {},
      "source": [
        "3. Clean the year variable. Describe the range of values you see. Filter the rows to focus on attacks since 1940. Are attacks increasing, decreasing, or remaining constant over time?"
      ]
    },
    {
      "cell_type": "code",
      "execution_count": 100,
      "id": "65f25be9",
      "metadata": {},
      "outputs": [
        {
          "name": "stdout",
          "output_type": "stream",
          "text": [
            "\n",
            "Year Range of Attacks: (1940, 2025)\n",
            "Trend: Constant\n"
          ]
        },
        {
          "data": {
            "image/png": "[encoded data removed]",
            "text/plain": [
              "<Figure size 640x480 with 1 Axes>"
            ]
          },
          "metadata": {},
          "output_type": "display_data"
        }
      ],
      "source": [
        "# Making All Year Values Numeric\n",
        "shark_data['Year'] = pd.to_numeric(shark_data['Year'], errors='coerce')\n",
        "\n",
        "# Filtering for Attacks Since 1940\n",
        "shark_data_filtered = shark_data[shark_data['Year'] >= 1940]\n",
        "\n",
        "# Showing the Range of Values\n",
        "year_range = round(shark_data_filtered['Year'].min()), round(shark_data_filtered['Year'].max() - 1)\n",
        "print(\"\\nYear Range of Attacks:\", year_range)\n",
        "\n",
        "# Analyzing the Trends Over Time\n",
        "shark_data_filtered_2 = shark_data_filtered[~shark_data_filtered['Year'].isin([2025, 2026])]\n",
        "attacks_by_year = shark_data_filtered_2['Year'].value_counts().sort_index()\n",
        "attacks_by_year.plot(kind='line', title='Shark Attacks Over Time Since 1940')\n",
        "\n",
        "if attacks_by_year.is_monotonic_increasing:\n",
        "    trend = \"Increasing\"\n",
        "elif attacks_by_year.is_monotonic_decreasing:\n",
        "    trend = \"Decreasing\"\n",
        "else:\n",
        "    trend = \"Constant\"\n",
        "print(\"Trend:\", trend)\n"
      ]
    },
    {
      "cell_type": "markdown",
      "id": "14f23488",
      "metadata": {},
      "source": [
        "4. Clean the Age variable and make a histogram of the ages of the victims."
      ]
    },
    {
      "cell_type": "code",
      "execution_count": 101,
      "id": "9681a601",
      "metadata": {},
      "outputs": [
        {
          "name": "stderr",
          "output_type": "stream",
          "text": [
            "C:\\Users\\Joe Leonard\\AppData\\Local\\Temp\\ipykernel_10392\\2106271717.py:4: SettingWithCopyWarning: \n",
            "A value is trying to be set on a copy of a slice from a DataFrame.\n",
            "Try using .loc[row_indexer,col_indexer] = value instead\n",
            "\n",
            "See the caveats in the documentation: https://pandas.pydata.org/pandas-docs/stable/user_guide/indexing.html#returning-a-view-versus-a-copy\n",
            "  shark_data_filtered['Age'] = pd.to_numeric(shark_data_filtered['Age'], errors='coerce')\n"
          ]
        },
        {
          "name": "stdout",
          "output_type": "stream",
          "text": [
            "Age\n",
            "NaN     1899\n",
            "17.0     148\n",
            "15.0     141\n",
            "20.0     137\n",
            "18.0     136\n",
            "        ... \n",
            "84.0       1\n",
            "87.0       1\n",
            "1.0        1\n",
            "81.0       1\n",
            "78.0       1\n",
            "Name: count, Length: 82, dtype: int64\n"
          ]
        },
        {
          "data": {
            "image/png": "[encoded data removed]",
            "text/plain": [
              "<Figure size 1000x600 with 1 Axes>"
            ]
          },
          "metadata": {},
          "output_type": "display_data"
        }
      ],
      "source": [
        "import matplotlib.pyplot as plt\n",
        "\n",
        "# Converting Age to Numeric (This causes around 140 values to turn into NAs)\n",
        "shark_data_filtered['Age'] = pd.to_numeric(shark_data_filtered['Age'], errors='coerce')\n",
        "print(shark_data_filtered['Age'].value_counts(dropna=False))\n",
        "\n",
        "# Dropping Rows w NA as Age\n",
        "shark_data_clean = shark_data_filtered.dropna(subset=['Age'])\n",
        "\n",
        "# Creating the Histogram\n",
        "plt.figure(figsize=(10, 6))\n",
        "plt.hist(shark_data_clean['Age'], bins=30, color='skyblue', edgecolor='black')\n",
        "plt.title('Histogram of Victim Ages in Shark Attacks')\n",
        "plt.xlabel('Age')\n",
        "plt.ylabel('Frequency')\n",
        "plt.grid(True)\n",
        "plt.show()"
      ]
    },
    {
      "cell_type": "markdown",
      "id": "f23709f8",
      "metadata": {},
      "source": [
        "5. What proportion of victims are male?"
      ]
    },
    {
      "cell_type": "code",
      "execution_count": 102,
      "id": "93b6b71c",
      "metadata": {},
      "outputs": [
        {
          "name": "stdout",
          "output_type": "stream",
          "text": [
            "\n",
            "Proportion of Male Victims: 0.837\n"
          ]
        },
        {
          "name": "stderr",
          "output_type": "stream",
          "text": [
            "C:\\Users\\Joe Leonard\\AppData\\Local\\Temp\\ipykernel_10392\\1263807509.py:3: SettingWithCopyWarning: \n",
            "A value is trying to be set on a copy of a slice from a DataFrame.\n",
            "Try using .loc[row_indexer,col_indexer] = value instead\n",
            "\n",
            "See the caveats in the documentation: https://pandas.pydata.org/pandas-docs/stable/user_guide/indexing.html#returning-a-view-versus-a-copy\n",
            "  shark_data_clean['Sex'] = shark_data_clean['Sex'].apply(lambda x: x if x in valid_types else 'Unknown')\n",
            "C:\\Users\\Joe Leonard\\AppData\\Local\\Temp\\ipykernel_10392\\1263807509.py:6: UserWarning: Boolean Series key will be reindexed to match DataFrame index.\n",
            "  male_victims = shark_data_clean[shark_data['Sex'] == 'M']\n"
          ]
        }
      ],
      "source": [
        "# Declaring Valid Types and Making All Else Unknown\n",
        "valid_types = ['M', 'F', 'Unknown']\n",
        "shark_data_clean['Sex'] = shark_data_clean['Sex'].apply(lambda x: x if x in valid_types else 'Unknown')\n",
        "\n",
        "# Calculating the Proportion of Male Victims\n",
        "male_victims = shark_data_clean[shark_data['Sex'] == 'M']\n",
        "total_victims = shark_data_clean.shape[0]\n",
        "proportion_male = round(male_victims.shape[0] / total_victims, 3)\n",
        "print(\"\\nProportion of Male Victims:\", proportion_male)"
      ]
    },
    {
      "cell_type": "markdown",
      "id": "936eb891",
      "metadata": {},
      "source": [
        "6. Clean the `Type` variable so it only takes three values: Provoked and Unprovoked and Unknown. What proportion of attacks are unprovoked?"
      ]
    },
    {
      "cell_type": "code",
      "execution_count": 103,
      "id": "7961951b",
      "metadata": {},
      "outputs": [
        {
          "name": "stdout",
          "output_type": "stream",
          "text": [
            "\n",
            "Proportion of Unprovoked Attacks: 0.831\n"
          ]
        },
        {
          "name": "stderr",
          "output_type": "stream",
          "text": [
            "C:\\Users\\Joe Leonard\\AppData\\Local\\Temp\\ipykernel_10392\\863007790.py:2: SettingWithCopyWarning: \n",
            "A value is trying to be set on a copy of a slice from a DataFrame.\n",
            "Try using .loc[row_indexer,col_indexer] = value instead\n",
            "\n",
            "See the caveats in the documentation: https://pandas.pydata.org/pandas-docs/stable/user_guide/indexing.html#returning-a-view-versus-a-copy\n",
            "  shark_data_clean['Type'] = shark_data_clean['Type'].astype(str)\n",
            "C:\\Users\\Joe Leonard\\AppData\\Local\\Temp\\ipykernel_10392\\863007790.py:6: SettingWithCopyWarning: \n",
            "A value is trying to be set on a copy of a slice from a DataFrame.\n",
            "Try using .loc[row_indexer,col_indexer] = value instead\n",
            "\n",
            "See the caveats in the documentation: https://pandas.pydata.org/pandas-docs/stable/user_guide/indexing.html#returning-a-view-versus-a-copy\n",
            "  shark_data_clean['Type'] = shark_data_clean['Type'].apply(lambda x: x if x in valid_types else 'Unknown')\n",
            "C:\\Users\\Joe Leonard\\AppData\\Local\\Temp\\ipykernel_10392\\863007790.py:9: UserWarning: Boolean Series key will be reindexed to match DataFrame index.\n",
            "  unprovoked_attacks = shark_data_clean[shark_data['Type'] == 'Unprovoked']\n"
          ]
        }
      ],
      "source": [
        "# Converting All Type Values to a String\n",
        "shark_data_clean['Type'] = shark_data_clean['Type'].astype(str)\n",
        "\n",
        "# Declaring Valid Types and Making All Else Unknown\n",
        "valid_types = ['Provoked', 'Unprovoked', 'Unknown']\n",
        "shark_data_clean['Type'] = shark_data_clean['Type'].apply(lambda x: x if x in valid_types else 'Unknown')\n",
        "\n",
        "# Calculating the Proportion of Unprovoked Attacks\n",
        "unprovoked_attacks = shark_data_clean[shark_data['Type'] == 'Unprovoked']\n",
        "total_attacks = shark_data_clean.shape[0]\n",
        "proportion_unprovoked = round(unprovoked_attacks.shape[0] / total_attacks, 3)\n",
        "print(\"\\nProportion of Unprovoked Attacks:\", proportion_unprovoked)"
      ]
    },
    {
      "cell_type": "markdown",
      "id": "70d69ab1",
      "metadata": {},
      "source": [
        "7. Clean the `Fatal Y/N` variable so it only takes three values: Y, N, and Unknown."
      ]
    },
    {
      "cell_type": "code",
      "execution_count": 104,
      "id": "7a5a2887",
      "metadata": {},
      "outputs": [
        {
          "name": "stdout",
          "output_type": "stream",
          "text": [
            "\n",
            "Unique Values in the 'Fatal Y/N' Column\n",
            "Fatal Y/N\n",
            "N          2819\n",
            "Y           518\n",
            "Unknown     222\n",
            "Name: count, dtype: int64\n"
          ]
        },
        {
          "name": "stderr",
          "output_type": "stream",
          "text": [
            "C:\\Users\\Joe Leonard\\AppData\\Local\\Temp\\ipykernel_10392\\898797737.py:3: SettingWithCopyWarning: \n",
            "A value is trying to be set on a copy of a slice from a DataFrame.\n",
            "Try using .loc[row_indexer,col_indexer] = value instead\n",
            "\n",
            "See the caveats in the documentation: https://pandas.pydata.org/pandas-docs/stable/user_guide/indexing.html#returning-a-view-versus-a-copy\n",
            "  shark_data_clean['Fatal Y/N'] = shark_data_clean['Fatal Y/N'].apply(lambda x: x if x in valid_values else 'Unknown')\n"
          ]
        }
      ],
      "source": [
        "# Declaring Valid Types and Making All Else Unknown\n",
        "valid_values = ['Y', 'N', 'Unknown']\n",
        "shark_data_clean['Fatal Y/N'] = shark_data_clean['Fatal Y/N'].apply(lambda x: x if x in valid_values else 'Unknown')\n",
        "\n",
        "# Inspecting the Column\n",
        "print(\"\\nUnique Values in the 'Fatal Y/N' Column\")\n",
        "print(shark_data_clean['Fatal Y/N'].value_counts(dropna=False))"
      ]
    },
    {
      "cell_type": "markdown",
      "id": "1b2d30ab",
      "metadata": {},
      "source": [
        "8. Are sharks more likely to launch unprovoked attacks on men or women? Is the attack more or less likely to be fatal when the attack is provoked or unprovoked? Is it more or less likely to be fatal when the victim is male or female? How do you feel about sharks?"
      ]
    },
    {
      "cell_type": "code",
      "execution_count": 105,
      "id": "59e19e80",
      "metadata": {},
      "outputs": [
        {
          "name": "stdout",
          "output_type": "stream",
          "text": [
            "Proportion of Unprovoked Attacks on Men and Women:\n",
            "Sex\n",
            "M          0.83\n",
            "F          0.16\n",
            "Unknown    0.01\n",
            "Name: proportion, dtype: float64\n"
          ]
        }
      ],
      "source": [
        "# Filter for Unprovoked Attacks\n",
        "unprovoked_data = shark_data_clean[shark_data_clean['Type'] == 'Unprovoked']\n",
        "\n",
        "# Calculate the Number of Attacks by Sex\n",
        "unprovoked_by_sex = round(unprovoked_data['Sex'].value_counts(normalize=True), 2)\n",
        "\n",
        "print(\"Proportion of Unprovoked Attacks on Men and Women:\")\n",
        "print(unprovoked_by_sex)"
      ]
    },
    {
      "cell_type": "code",
      "execution_count": 106,
      "id": "57b57d47",
      "metadata": {},
      "outputs": [
        {
          "name": "stdout",
          "output_type": "stream",
          "text": [
            "Proportion of Fatal Attacks in Provoked Attacks: 0.03\n",
            "Proportion of Fatal Attacks in Unprovoked Attacks: 0.16\n"
          ]
        }
      ],
      "source": [
        "# Filter for Provoked Attacks\n",
        "provoked_data = shark_data_clean[shark_data_clean['Type'] == 'Provoked']\n",
        "\n",
        "# Calculate the Proportion of Fatal Attacks by Type\n",
        "fatal_provoked = round(provoked_data['Fatal Y/N'].value_counts(normalize=True).get('Y', 0), 2)\n",
        "fatal_unprovoked = round(unprovoked_data['Fatal Y/N'].value_counts(normalize=True).get('Y', 0), 2)\n",
        "\n",
        "print(f\"Proportion of Fatal Attacks in Provoked Attacks: {fatal_provoked}\")\n",
        "print(f\"Proportion of Fatal Attacks in Unprovoked Attacks: {fatal_unprovoked}\")"
      ]
    },
    {
      "cell_type": "code",
      "execution_count": 107,
      "id": "a9c0180e",
      "metadata": {},
      "outputs": [
        {
          "name": "stdout",
          "output_type": "stream",
          "text": [
            "Proportion of Fatal Attacks for Male and Female Victims:\n",
            "Sex\n",
            "F          0.13\n",
            "M          0.15\n",
            "Unknown    0.20\n",
            "Name: Y, dtype: float64\n"
          ]
        }
      ],
      "source": [
        "# Calculate the Proportion of Fatal Attacks by Sex\n",
        "fatal_by_sex = round(shark_data_clean.groupby('Sex')['Fatal Y/N'].value_counts(normalize=True).unstack().get('Y', 0), 2)\n",
        "\n",
        "print(\"Proportion of Fatal Attacks for Male and Female Victims:\")\n",
        "print(fatal_by_sex)"
      ]
    },
    {
      "cell_type": "markdown",
      "id": "5ecfb508",
      "metadata": {},
      "source": [
        "#### To be honest, I've never thought too much of sharks. Growing up on Long Island, I've always heard of different interactions with them and most of them have not been fatal. It is evident that men are more likely to be attacked which urks me a bit, but I've never heard of an actual situation where someone has encountered a shark and it has ended badly. That being said, I bet if I were to come across one in the ocean, I would be pretty frightened and have 0 survival skills in the moment.  "
      ]
    },
    {
      "cell_type": "markdown",
      "id": "608adfef",
      "metadata": {},
      "source": [
        "9. What proportion of attacks appear to be by white sharks? (Hint: `str.split()` makes a vector of text values into a list of lists, split by spaces.)"
      ]
    },
    {
      "cell_type": "code",
      "execution_count": 108,
      "id": "4fac637e",
      "metadata": {},
      "outputs": [
        {
          "name": "stdout",
          "output_type": "stream",
          "text": [
            "\n",
            "Proportion of Attacks Attributed to White Sharks: 0.07\n"
          ]
        },
        {
          "name": "stderr",
          "output_type": "stream",
          "text": [
            "C:\\Users\\Joe Leonard\\AppData\\Local\\Temp\\ipykernel_10392\\1890692047.py:2: SettingWithCopyWarning: \n",
            "A value is trying to be set on a copy of a slice from a DataFrame.\n",
            "Try using .loc[row_indexer,col_indexer] = value instead\n",
            "\n",
            "See the caveats in the documentation: https://pandas.pydata.org/pandas-docs/stable/user_guide/indexing.html#returning-a-view-versus-a-copy\n",
            "  shark_data_clean['Species_split'] = shark_data_clean['Species '].fillna('').str.split()\n",
            "C:\\Users\\Joe Leonard\\AppData\\Local\\Temp\\ipykernel_10392\\1890692047.py:5: SettingWithCopyWarning: \n",
            "A value is trying to be set on a copy of a slice from a DataFrame.\n",
            "Try using .loc[row_indexer,col_indexer] = value instead\n",
            "\n",
            "See the caveats in the documentation: https://pandas.pydata.org/pandas-docs/stable/user_guide/indexing.html#returning-a-view-versus-a-copy\n",
            "  shark_data_clean['White_Shark_Attack'] = shark_data_clean['Species_split'].apply(\n"
          ]
        }
      ],
      "source": [
        "# Separating 'Species' Column into Lists of Words\n",
        "shark_data_clean['Species_split'] = shark_data_clean['Species '].fillna('').str.split()\n",
        "\n",
        "# Check if 'White' and 'Shark' is in the List\n",
        "shark_data_clean['White_Shark_Attack'] = shark_data_clean['Species_split'].apply(\n",
        "    lambda x: 'White' in [species.strip().title() for species in x] and 'Shark' in [species.strip().title() for species in x]\n",
        ")\n",
        "\n",
        "# Calculate the Proportion of Attacks by White Sharks\n",
        "proportion_white_sharks = round(shark_data_clean['White_Shark_Attack'].mean(), 2)\n",
        "print(f\"\\nProportion of Attacks Attributed to White Sharks: {proportion_white_sharks}\")"
      ]
    },
    {
      "cell_type": "markdown",
      "id": "5735a4d4-8be8-433a-a351-70eb8002e632",
      "metadata": {
        "id": "5735a4d4-8be8-433a-a351-70eb8002e632"
      },
      "source": [
        "**Q3.** Open the \"tidy_data.pdf\" document in the repo, which is a paper called Tidy Data by Hadley Wickham.\n",
        "\n",
        "  1. Read the abstract. What is this paper about?\n",
        "  2. Read the introduction. What is the \"tidy data standard\" intended to accomplish?\n",
        "  3. Read the intro to section 2. What does this sentence mean: \"Like families, tidy datasets are all alike but every messy dataset is messy in its own way.\" What does this sentence mean: \"For a given dataset, it’s usually easy to figure out what are observations and what are variables, but it is surprisingly difficult to precisely define variables and observations in general.\"\n",
        "  4. Read Section 2.2. How does Wickham define values, variables, and observations?\n",
        "  5. How is \"Tidy Data\" defined in section 2.3?\n",
        "  6. Read the intro to Section 3 and Section 3.1. What are the 5 most common problems with messy datasets? Why are the data in Table 4 messy? What is \"melting\" a dataset?\n",
        "  7. Why, specifically, is table 11 messy but table 12 tidy and \"molten\"?\n",
        "  8. Read Section 6. What is the \"chicken-and-egg\" problem with focusing on tidy data? What does Wickham hope happens in the future with further work on the subject of data wrangling?"
      ]
    },
    {
      "cell_type": "markdown",
      "id": "649494cd-cfd6-4f80-992a-9994fc19e1d5",
      "metadata": {
        "id": "649494cd-cfd6-4f80-992a-9994fc19e1d5"
      },
      "source": [
        "**Q4.** Many important datasets contain a race variable, typically limited to a handful of values often including Black, White, Asian, Latino, and Indigenous. This question looks at data gathering efforts on this variable by the U.S. Federal government.\n",
        "\n",
        "1. How did the most recent US Census gather data on race?\n",
        "2. Why do we gather these data? What role do these kinds of data play in politics and society? Why does data quality matter?\n",
        "3. Please provide a constructive criticism of how the Census was conducted: What was done well? What do you think was missing? How should future large scale surveys be adjusted to best reflect the diversity of the population? Could some of the Census' good practices be adopted more widely to gather richer and more useful data?\n",
        "4. How did the Census gather data on sex and gender? Please provide a similar constructive criticism of their practices.\n",
        "5. When it comes to cleaning data, what concerns do you have about protected characteristics like sex, gender, sexual identity, or race? What challenges can you imagine arising when there are missing values? What good or bad practices might people adopt, and why?\n",
        "6. Suppose someone invented an algorithm to impute values for protected characteristics like race, gender, sex, or sexuality. What kinds of concerns would you have?"
      ]
    }
  ],
  "metadata": {
    "colab": {
      "provenance": []
    },
    "kernelspec": {
      "display_name": "Python 3",
      "language": "python",
      "name": "python3"
    },
    "language_info": {
      "codemirror_mode": {
        "name": "ipython",
        "version": 3
      },
      "file_extension": ".py",
      "mimetype": "text/x-python",
      "name": "python",
      "nbconvert_exporter": "python",
      "pygments_lexer": "ipython3",
      "version": "3.11.9"
    }
  },
  "nbformat": 4,
  "nbformat_minor": 5
}
